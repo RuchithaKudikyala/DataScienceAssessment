{
 "cells": [
  {
   "cell_type": "markdown",
   "id": "9ec76eda",
   "metadata": {},
   "source": [
    "# <h1><center>My Assessment</center></h1>\n",
    "    "
   ]
  },
  {
   "cell_type": "markdown",
   "id": "54850c17",
   "metadata": {},
   "source": [
    "<h3>Objectives</h3>\n",
    "<ul>\n",
    "    <li>DataScience Languages</li>\n",
    "    <li>DataScience Libraries</li>\n",
    "    <li>DataScience Tools</li>\n",
    "    "
   ]
  },
  {
   "cell_type": "markdown",
   "id": "b12fd532",
   "metadata": {},
   "source": [
    "<em>I am interested in data science because I love telling stories with data and using data to help bring that data to life.I love helping others. In data science that could be helping a business understand its customers or improving the way it uses its customer data.</em>"
   ]
  },
  {
   "cell_type": "markdown",
   "id": "d8f97e9e",
   "metadata": {},
   "source": [
    "<h3>DataScience Languages</h3>\n",
    "<ol>\n",
    "    <li>Python</li>\n",
    "    <li>R</li>\n",
    "    <li>javascript</li>\n",
    "    <li>Scala</li>\n",
    "</ol>    "
   ]
  },
  {
   "cell_type": "markdown",
   "id": "a0a9cc83",
   "metadata": {},
   "source": [
    "<h3>DataScience Libraries</h3>\n",
    "<ol>\n",
    "    <li>Scikit-learn</li>\n",
    "    <li>Tensor Flow</li>\n",
    "    <li>PyTorch</li>\n",
    "</ol>    "
   ]
  },
  {
   "cell_type": "markdown",
   "id": "c29cd02e",
   "metadata": {},
   "source": [
    "| Data Science Tools |\n",
    "| --- |\n",
    "| SAS |\n",
    "| Apache Hadoop |\n",
    "| TensorFlow |"
   ]
  },
  {
   "cell_type": "markdown",
   "id": "470898ea",
   "metadata": {},
   "source": [
    "<h3>Below are a few examples of evaluating arithmetic expressions in Python</h3>"
   ]
  },
  {
   "cell_type": "code",
   "execution_count": 18,
   "id": "ab2dbcef",
   "metadata": {},
   "outputs": [
    {
     "name": "stdout",
     "output_type": "stream",
     "text": [
      "9\n",
      "40\n"
     ]
    }
   ],
   "source": [
    "#This is addition\n",
    "print(4+5)\n",
    "#This is multiplication\n",
    "print(5*8)"
   ]
  },
  {
   "cell_type": "code",
   "execution_count": 1,
   "id": "75644410",
   "metadata": {},
   "outputs": [
    {
     "data": {
      "text/plain": [
       "17"
      ]
     },
     "execution_count": 1,
     "metadata": {},
     "output_type": "execute_result"
    }
   ],
   "source": [
    "(3*4)+5"
   ]
  },
  {
   "cell_type": "code",
   "execution_count": 4,
   "id": "de514af7",
   "metadata": {},
   "outputs": [
    {
     "name": "stdout",
     "output_type": "stream",
     "text": [
      "Hours= 3\n",
      "Minutes= 20\n"
     ]
    }
   ],
   "source": [
    "#  This will convert 200 minutes to hours by diving by 60.\n",
    "min=200\n",
    "h=min//60\n",
    "m=min%60\n",
    "print(\"Hours=\",h)\n",
    "print(\"Minutes=\",m)"
   ]
  },
  {
   "cell_type": "markdown",
   "id": "6a2e8324",
   "metadata": {},
   "source": [
    "<h2>Author:</h2>\n",
    "Ruchitha Kudikyala\n"
   ]
  }
 ],
 "metadata": {
  "kernelspec": {
   "display_name": "Python 3 (ipykernel)",
   "language": "python",
   "name": "python3"
  },
  "language_info": {
   "codemirror_mode": {
    "name": "ipython",
    "version": 3
   },
   "file_extension": ".py",
   "mimetype": "text/x-python",
   "name": "python",
   "nbconvert_exporter": "python",
   "pygments_lexer": "ipython3",
   "version": "3.10.9"
  }
 },
 "nbformat": 4,
 "nbformat_minor": 5
}
